{
 "cells": [
  {
   "cell_type": "markdown",
   "metadata": {},
   "source": [
    "# Python Data Structures"
   ]
  },
  {
   "cell_type": "markdown",
   "metadata": {},
   "source": [
    "# Dictionary"
   ]
  },
  {
   "cell_type": "code",
   "execution_count": 1,
   "metadata": {},
   "outputs": [],
   "source": [
    "marks = {\"Arsh\":200,\"Piyush\":195,\"Mayank\":190,\"Himanshu\":194}"
   ]
  },
  {
   "cell_type": "code",
   "execution_count": 4,
   "metadata": {},
   "outputs": [
    {
     "data": {
      "text/plain": [
       "dict_keys(['Arsh', 'Piyush', 'Mayank', 'Himanshu'])"
      ]
     },
     "execution_count": 4,
     "metadata": {},
     "output_type": "execute_result"
    }
   ],
   "source": [
    "#extracting keys\n",
    "marks.keys()"
   ]
  },
  {
   "cell_type": "code",
   "execution_count": 5,
   "metadata": {},
   "outputs": [
    {
     "data": {
      "text/plain": [
       "dict_values([200, 195, 190, 194])"
      ]
     },
     "execution_count": 5,
     "metadata": {},
     "output_type": "execute_result"
    }
   ],
   "source": [
    "#extracting values\n",
    "marks.values()"
   ]
  },
  {
   "cell_type": "code",
   "execution_count": 11,
   "metadata": {},
   "outputs": [
    {
     "name": "stdout",
     "output_type": "stream",
     "text": [
      "values is  200\n",
      "values is  195\n",
      "values is  190\n",
      "values is  194\n"
     ]
    }
   ],
   "source": [
    "#for printing all the key values sequentially\n",
    "for i in marks.values():\n",
    "    print(\"values is \", i)"
   ]
  },
  {
   "cell_type": "code",
   "execution_count": 12,
   "metadata": {},
   "outputs": [],
   "source": [
    "#updating the dictionary values\n",
    "marks[\"Arsh\"]=195"
   ]
  },
  {
   "cell_type": "code",
   "execution_count": 13,
   "metadata": {},
   "outputs": [
    {
     "data": {
      "text/plain": [
       "dict_values([195, 195, 190, 194])"
      ]
     },
     "execution_count": 13,
     "metadata": {},
     "output_type": "execute_result"
    }
   ],
   "source": [
    "marks.values()"
   ]
  },
  {
   "cell_type": "code",
   "execution_count": 14,
   "metadata": {},
   "outputs": [],
   "source": [
    "#for removing a particular column -> use del keyword\n",
    "del marks[\"Himanshu\"]\n"
   ]
  },
  {
   "cell_type": "code",
   "execution_count": 15,
   "metadata": {},
   "outputs": [
    {
     "data": {
      "text/plain": [
       "dict_values([195, 195, 190])"
      ]
     },
     "execution_count": 15,
     "metadata": {},
     "output_type": "execute_result"
    }
   ],
   "source": [
    "marks.values()"
   ]
  },
  {
   "cell_type": "code",
   "execution_count": 16,
   "metadata": {},
   "outputs": [],
   "source": [
    "#for deleting the entire dictionary -> again use the del keyword\n",
    "del marks"
   ]
  },
  {
   "cell_type": "code",
   "execution_count": 17,
   "metadata": {},
   "outputs": [
    {
     "ename": "NameError",
     "evalue": "name 'marks' is not defined",
     "output_type": "error",
     "traceback": [
      "\u001b[1;31m---------------------------------------------------------------------------\u001b[0m",
      "\u001b[1;31mNameError\u001b[0m                                 Traceback (most recent call last)",
      "\u001b[1;32m<ipython-input-17-9c3814f7dbe0>\u001b[0m in \u001b[0;36m<module>\u001b[1;34m\u001b[0m\n\u001b[1;32m----> 1\u001b[1;33m \u001b[0mmarks\u001b[0m\u001b[1;33m.\u001b[0m\u001b[0mvalues\u001b[0m\u001b[1;33m(\u001b[0m\u001b[1;33m)\u001b[0m\u001b[1;33m\u001b[0m\u001b[1;33m\u001b[0m\u001b[0m\n\u001b[0m",
      "\u001b[1;31mNameError\u001b[0m: name 'marks' is not defined"
     ]
    }
   ],
   "source": [
    "marks.values()"
   ]
  },
  {
   "cell_type": "code",
   "execution_count": 18,
   "metadata": {},
   "outputs": [],
   "source": [
    "#see marks dosen't exist now ;) "
   ]
  },
  {
   "cell_type": "markdown",
   "metadata": {},
   "source": [
    "# 2D ARRAYS"
   ]
  },
  {
   "cell_type": "code",
   "execution_count": 21,
   "metadata": {},
   "outputs": [],
   "source": [
    "from array import *"
   ]
  },
  {
   "cell_type": "code",
   "execution_count": 23,
   "metadata": {},
   "outputs": [],
   "source": [
    "Arr_2d = [[1,2,3,4],[5,6,7,8]]"
   ]
  },
  {
   "cell_type": "code",
   "execution_count": 25,
   "metadata": {},
   "outputs": [
    {
     "data": {
      "text/plain": [
       "2"
      ]
     },
     "execution_count": 25,
     "metadata": {},
     "output_type": "execute_result"
    }
   ],
   "source": [
    "len(Arr_2d)"
   ]
  },
  {
   "cell_type": "code",
   "execution_count": 28,
   "metadata": {},
   "outputs": [
    {
     "name": "stdout",
     "output_type": "stream",
     "text": [
      "[1, 2, 3, 4]\n"
     ]
    }
   ],
   "source": [
    "print(Arr_2d[0])#extracting the first row"
   ]
  },
  {
   "cell_type": "code",
   "execution_count": 29,
   "metadata": {},
   "outputs": [
    {
     "name": "stdout",
     "output_type": "stream",
     "text": [
      "[1, 2]\n"
     ]
    }
   ],
   "source": [
    "print(Arr_2d[0][:2])#extracting the first two elements of the first row"
   ]
  },
  {
   "cell_type": "code",
   "execution_count": 30,
   "metadata": {},
   "outputs": [
    {
     "name": "stdout",
     "output_type": "stream",
     "text": [
      "[5, 6, 7]\n"
     ]
    }
   ],
   "source": [
    "print(Arr_2d[-1][:3])#extracting the first three column values of the second row"
   ]
  },
  {
   "cell_type": "code",
   "execution_count": 31,
   "metadata": {},
   "outputs": [],
   "source": [
    "#now for completing the complete two dimensional array"
   ]
  },
  {
   "cell_type": "code",
   "execution_count": 32,
   "metadata": {},
   "outputs": [
    {
     "data": {
      "text/plain": [
       "[[1, 2, 3, 4], [5, 6, 7, 8]]"
      ]
     },
     "execution_count": 32,
     "metadata": {},
     "output_type": "execute_result"
    }
   ],
   "source": [
    "Arr_2d"
   ]
  },
  {
   "cell_type": "code",
   "execution_count": 33,
   "metadata": {},
   "outputs": [],
   "source": [
    "#or"
   ]
  },
  {
   "cell_type": "code",
   "execution_count": 34,
   "metadata": {},
   "outputs": [
    {
     "name": "stdout",
     "output_type": "stream",
     "text": [
      "1 2 3 4 \n",
      "5 6 7 8 \n"
     ]
    }
   ],
   "source": [
    "for i in Arr_2d:\n",
    "    for j in i:\n",
    "        print(j,end=\" \")\n",
    "    print()#for the new line    "
   ]
  },
  {
   "cell_type": "code",
   "execution_count": 35,
   "metadata": {},
   "outputs": [],
   "source": [
    "#if u want to replace the complete row \n",
    "Arr_2d[1]=[10,11,12,13]"
   ]
  },
  {
   "cell_type": "code",
   "execution_count": 36,
   "metadata": {},
   "outputs": [
    {
     "data": {
      "text/plain": [
       "[[1, 2, 3, 4], [10, 11, 12, 13]]"
      ]
     },
     "execution_count": 36,
     "metadata": {},
     "output_type": "execute_result"
    }
   ],
   "source": [
    "Arr_2d"
   ]
  },
  {
   "cell_type": "code",
   "execution_count": 37,
   "metadata": {},
   "outputs": [],
   "source": [
    "#values got changed\n",
    "\n",
    "#for deleting the values use the -> del keyword"
   ]
  },
  {
   "cell_type": "markdown",
   "metadata": {},
   "source": [
    "# Matrix"
   ]
  },
  {
   "cell_type": "code",
   "execution_count": 38,
   "metadata": {},
   "outputs": [],
   "source": [
    "import numpy as np"
   ]
  },
  {
   "cell_type": "code",
   "execution_count": 39,
   "metadata": {},
   "outputs": [],
   "source": [
    "my_array = np.array([[\"Arsh Mishra\",\"Rajkot\"],[\"Piyush\",\"jaipur\"],[\"Mayank\",\"Jaipur\"]])"
   ]
  },
  {
   "cell_type": "code",
   "execution_count": 40,
   "metadata": {},
   "outputs": [
    {
     "name": "stdout",
     "output_type": "stream",
     "text": [
      "[['Arsh Mishra' 'Rajkot']\n",
      " ['Piyush' 'jaipur']\n",
      " ['Mayank' 'Jaipur']]\n"
     ]
    }
   ],
   "source": [
    "print(my_array)"
   ]
  },
  {
   "cell_type": "code",
   "execution_count": 42,
   "metadata": {},
   "outputs": [
    {
     "data": {
      "text/plain": [
       "3"
      ]
     },
     "execution_count": 42,
     "metadata": {},
     "output_type": "execute_result"
    }
   ],
   "source": [
    "len(my_array)"
   ]
  },
  {
   "cell_type": "code",
   "execution_count": 43,
   "metadata": {},
   "outputs": [
    {
     "data": {
      "text/plain": [
       "array([['Arsh Mishra', 'Rajkot', 'Piyush'],\n",
       "       ['jaipur', 'Mayank', 'Jaipur']], dtype='<U11')"
      ]
     },
     "execution_count": 43,
     "metadata": {},
     "output_type": "execute_result"
    }
   ],
   "source": [
    "my_array.reshape(2,3)#for reshaping it "
   ]
  },
  {
   "cell_type": "code",
   "execution_count": 44,
   "metadata": {},
   "outputs": [
    {
     "data": {
      "text/plain": [
       "array([['Arsh Mishra', 'Rajkot'],\n",
       "       ['Piyush', 'jaipur'],\n",
       "       ['Mayank', 'Jaipur']], dtype='<U11')"
      ]
     },
     "execution_count": 44,
     "metadata": {},
     "output_type": "execute_result"
    }
   ],
   "source": [
    "#again reshaping it back to normal\n",
    "my_array.reshape(3,2)"
   ]
  },
  {
   "cell_type": "code",
   "execution_count": 50,
   "metadata": {},
   "outputs": [],
   "source": [
    "#for adding a new line in it\n",
    "\n",
    "my_array=np.append(my_array,['Himanshu','Gurgaon'])"
   ]
  },
  {
   "cell_type": "code",
   "execution_count": 51,
   "metadata": {},
   "outputs": [
    {
     "data": {
      "text/plain": [
       "array(['Arsh Mishra', 'Rajkot', 'Piyush', 'jaipur', 'Mayank', 'Jaipur',\n",
       "       'Himanshu', 'Gurgaon'], dtype='<U11')"
      ]
     },
     "execution_count": 51,
     "metadata": {},
     "output_type": "execute_result"
    }
   ],
   "source": [
    "my_array"
   ]
  },
  {
   "cell_type": "markdown",
   "metadata": {},
   "source": [
    "# SETS"
   ]
  },
  {
   "cell_type": "code",
   "execution_count": 53,
   "metadata": {},
   "outputs": [],
   "source": [
    "day_of_the_week = set([\"Mon\",\"Tue\",\"Wed\",\"Thurs\",\"Fri\",\"Sat\",\"Sun\"])"
   ]
  },
  {
   "cell_type": "code",
   "execution_count": 54,
   "metadata": {},
   "outputs": [
    {
     "name": "stdout",
     "output_type": "stream",
     "text": [
      "{'Tue', 'Thurs', 'Wed', 'Sat', 'Sun', 'Fri', 'Mon'}\n"
     ]
    }
   ],
   "source": [
    "print(day_of_the_week)"
   ]
  },
  {
   "cell_type": "code",
   "execution_count": 55,
   "metadata": {},
   "outputs": [],
   "source": [
    "#there is nothing like ordering here"
   ]
  },
  {
   "cell_type": "code",
   "execution_count": 56,
   "metadata": {},
   "outputs": [],
   "source": [
    "days= set([21,22,23])"
   ]
  },
  {
   "cell_type": "code",
   "execution_count": 57,
   "metadata": {},
   "outputs": [
    {
     "data": {
      "text/plain": [
       "{21, 22, 23}"
      ]
     },
     "execution_count": 57,
     "metadata": {},
     "output_type": "execute_result"
    }
   ],
   "source": [
    "days"
   ]
  },
  {
   "cell_type": "code",
   "execution_count": 58,
   "metadata": {},
   "outputs": [],
   "source": [
    "#for adding a value\n",
    "days.add(24)"
   ]
  },
  {
   "cell_type": "code",
   "execution_count": 59,
   "metadata": {},
   "outputs": [
    {
     "data": {
      "text/plain": [
       "{21, 22, 23, 24}"
      ]
     },
     "execution_count": 59,
     "metadata": {},
     "output_type": "execute_result"
    }
   ],
   "source": [
    "days"
   ]
  },
  {
   "cell_type": "code",
   "execution_count": 62,
   "metadata": {},
   "outputs": [
    {
     "name": "stdout",
     "output_type": "stream",
     "text": [
      "29\n",
      "26\n",
      "27\n",
      "28\n"
     ]
    }
   ],
   "source": [
    "#for incrementing all the values by 5\n",
    "for i in days:\n",
    "    i = i+5\n",
    "    print(i)"
   ]
  },
  {
   "cell_type": "code",
   "execution_count": 63,
   "metadata": {},
   "outputs": [],
   "source": [
    "#for removing the elements from the set \n",
    "days.discard(21)"
   ]
  },
  {
   "cell_type": "code",
   "execution_count": 64,
   "metadata": {},
   "outputs": [
    {
     "data": {
      "text/plain": [
       "{22, 23, 24}"
      ]
     },
     "execution_count": 64,
     "metadata": {},
     "output_type": "execute_result"
    }
   ],
   "source": [
    "days"
   ]
  },
  {
   "cell_type": "code",
   "execution_count": 65,
   "metadata": {},
   "outputs": [
    {
     "name": "stdout",
     "output_type": "stream",
     "text": [
      "{1, 2, 3, 4, 5, 6, 7, 8}\n"
     ]
    }
   ],
   "source": [
    "#union of sets\n",
    "set1=set([1,2,3,4])\n",
    "set2=set([4,5,6,7,8])\n",
    "union_set=set1|set2\n",
    "print(union_set)"
   ]
  },
  {
   "cell_type": "code",
   "execution_count": 66,
   "metadata": {},
   "outputs": [
    {
     "name": "stdout",
     "output_type": "stream",
     "text": [
      "{4}\n"
     ]
    }
   ],
   "source": [
    "#intersection of sets\n",
    "inter_set=set1 & set2\n",
    "print(inter_set)"
   ]
  },
  {
   "cell_type": "markdown",
   "metadata": {},
   "source": [
    "# Linked List"
   ]
  },
  {
   "cell_type": "code",
   "execution_count": 1,
   "metadata": {},
   "outputs": [],
   "source": [
    "# we will see how to insert the elements in the linkedlist and then how to print all of them\n",
    "\n",
    "#steps\n",
    "#1)creating nodes\n",
    "#2)creating linked list\n",
    "#3)Adding nodes to the linked list\n",
    "#4)printing all the elements by traversing through each of them\n"
   ]
  },
  {
   "cell_type": "code",
   "execution_count": 15,
   "metadata": {},
   "outputs": [],
   "source": [
    "class Node:\n",
    "    def __init__(self,data):\n",
    "        self.data = data\n",
    "        self.next = None\n",
    "        "
   ]
  },
  {
   "cell_type": "code",
   "execution_count": 18,
   "metadata": {},
   "outputs": [],
   "source": [
    "class LinkedList:\n",
    "    def __init__(self):\n",
    "        self.head = None\n",
    "    def insert(self,NewNode):\n",
    "        if self.head is None:\n",
    "            self.head = NewNode\n",
    "        else:\n",
    "            lastNode = self.head\n",
    "            while True:\n",
    "                if lastNode.next is None:\n",
    "                    break\n",
    "                lastNode=lastNode.next\n",
    "            lastNode.next=NewNode\n",
    "    def print_list(self):\n",
    "        if self.head is None:\n",
    "            print(\"List Is Empty Friend\")\n",
    "            \n",
    "        else:\n",
    "            currentnode = self.head\n",
    "            while True:\n",
    "                if currentnode is None:\n",
    "                    break\n",
    "                print(currentnode.data) \n",
    "                currentnode=currentnode.next\n",
    "    #steps\n",
    "    #1)preserve the current head node in the temporary node\n",
    "    #2)make the new node as the head node\n",
    "    #3)point the next part of the new node point to the temporary node\n",
    "    def insertHead(self,newNode):\n",
    "        temp_node=self.head\n",
    "        self.head=newNode\n",
    "        self.head.next=temp_node\n",
    "        del temp_node\n",
    "    def insert_afterhead(self,newNode):\n",
    "        newNode.next=self.head.next\n",
    "        self.head.next=newNode\n",
    "    def insertAt(self,newNode,position):\n",
    "        currentnode=self.head\n",
    "        currentPosition =0\n",
    "        while True:\n",
    "            if currentPosition==position:\n",
    "                previousnode.next=newNode\n",
    "                newNode.next=currentnode\n",
    "                break\n",
    "            previousnode=currentnode\n",
    "            currentnode=currentnode.next\n",
    "            currentPosition +=1\n",
    "                \n",
    "            \n",
    "            \n",
    "                  \n",
    "        "
   ]
  },
  {
   "cell_type": "code",
   "execution_count": 19,
   "metadata": {},
   "outputs": [
    {
     "name": "stdout",
     "output_type": "stream",
     "text": [
      "MR PICHAI\n",
      "Arnav\n",
      "Mayank\n",
      "Arsh\n",
      "Piyush\n"
     ]
    }
   ],
   "source": [
    "#let's start inserting the values \n",
    "firstnode = Node(\"Arsh\")\n",
    "linklist=LinkedList()\n",
    "linklist.insert(firstnode)\n",
    "secnode =Node(\"Piyush\")\n",
    "linklist.insert(secnode)\n",
    "#head node addition\n",
    "headnode=Node(\"MR PICHAI\")\n",
    "linklist.insertHead(headnode)\n",
    "\n",
    "#inserting  a new node after the head node\n",
    "\n",
    "updated_sec_node=Node(\"Arnav\")\n",
    "linklist.insert_afterhead(updated_sec_node)\n",
    "\n",
    "#inserting the node at the particular position\n",
    "\n",
    "any_pos_node = Node(\"Mayank\")\n",
    "linklist.insertAt(any_pos_node,2)\n",
    "\n",
    "#printing the list\n",
    "linklist.print_list()#mayank value will get added at 2"
   ]
  },
  {
   "cell_type": "code",
   "execution_count": 20,
   "metadata": {},
   "outputs": [],
   "source": [
    "class Node2:\n",
    "    def __init__(self,data):\n",
    "        self.data = data\n",
    "        self.next = None"
   ]
  },
  {
   "cell_type": "code",
   "execution_count": 32,
   "metadata": {},
   "outputs": [],
   "source": [
    "class LinkedList2:\n",
    "    def __init__(self):\n",
    "        self.head = None\n",
    "    def insert(self,NewNode):\n",
    "        if self.head is None:\n",
    "            self.head = NewNode\n",
    "        else:\n",
    "            lastNode = self.head\n",
    "            while True:\n",
    "                if lastNode.next is None:\n",
    "                    break\n",
    "                lastNode=lastNode.next\n",
    "            lastNode.next=NewNode\n",
    "    def print_list(self):\n",
    "        if self.head is None:\n",
    "            print(\"List Is Empty Friend\")\n",
    "            \n",
    "        else:\n",
    "            currentnode = self.head\n",
    "            while True:\n",
    "                if currentnode is None:\n",
    "                    break\n",
    "                print(currentnode.data) \n",
    "                currentnode=currentnode.next\n",
    "    def last_node(self):\n",
    "        lastele=self.head\n",
    "        while lastele.next is not None:\n",
    "            prev_ele =lastele\n",
    "            lastele=lastele.next\n",
    "        del lastele\n",
    "        prev_ele.next=None\n",
    "   \n",
    "            "
   ]
  },
  {
   "cell_type": "code",
   "execution_count": 33,
   "metadata": {},
   "outputs": [
    {
     "name": "stdout",
     "output_type": "stream",
     "text": [
      "10\n",
      "20\n",
      "30\n"
     ]
    }
   ],
   "source": [
    "first_ele = Node2(10)\n",
    "obj=LinkedList2()\n",
    "obj.insert(first_ele)\n",
    "second_ele =Node(20)\n",
    "obj.insert(second_ele)\n",
    "third_ele =Node(30)\n",
    "obj.insert(third_ele)\n",
    "obj.print_list()"
   ]
  },
  {
   "cell_type": "code",
   "execution_count": 34,
   "metadata": {},
   "outputs": [],
   "source": [
    "obj.last_node()"
   ]
  },
  {
   "cell_type": "code",
   "execution_count": 35,
   "metadata": {},
   "outputs": [
    {
     "name": "stdout",
     "output_type": "stream",
     "text": [
      "10\n",
      "20\n"
     ]
    }
   ],
   "source": [
    "obj.print_list()"
   ]
  },
  {
   "cell_type": "markdown",
   "metadata": {},
   "source": [
    "# STACK"
   ]
  },
  {
   "cell_type": "code",
   "execution_count": 4,
   "metadata": {},
   "outputs": [],
   "source": [
    "class stack:\n",
    "    def __init__(self):\n",
    "        self.stack=[]\n",
    "    #for inserting the elements into the stack    \n",
    "    def add_ele(self,value):\n",
    "        if value not in self.stack:\n",
    "            self.stack.append(value)\n",
    "            return True\n",
    "        else:\n",
    "            return False\n",
    "    #for peeking the top most value of the stack\n",
    "    def peek_func(self):\n",
    "        print(self.stack[-1])\n",
    "    #for poping out the value from stack\n",
    "    def pop_func(self):\n",
    "        if len(self.stack)>0:\n",
    "            self.stack.pop()\n",
    "            return True\n",
    "        else:\n",
    "            print(\"Stack is empty\")\n",
    "    #for printing the values of the stack\n",
    "    def printing_func(self):\n",
    "        for i in range(0,len(self.stack)):\n",
    "            print(self.stack[i])\n",
    "            "
   ]
  },
  {
   "cell_type": "code",
   "execution_count": 5,
   "metadata": {},
   "outputs": [],
   "source": [
    "my_stack_obj = stack()#creating the object"
   ]
  },
  {
   "cell_type": "code",
   "execution_count": 6,
   "metadata": {},
   "outputs": [
    {
     "data": {
      "text/plain": [
       "True"
      ]
     },
     "execution_count": 6,
     "metadata": {},
     "output_type": "execute_result"
    }
   ],
   "source": [
    "my_stack_obj.add_ele(10)\n",
    "my_stack_obj.add_ele(20)\n",
    "my_stack_obj.add_ele(30)\n",
    "my_stack_obj.add_ele(40)\n",
    "my_stack_obj.add_ele(50)\n",
    "#added the above values in stack"
   ]
  },
  {
   "cell_type": "code",
   "execution_count": 7,
   "metadata": {},
   "outputs": [
    {
     "name": "stdout",
     "output_type": "stream",
     "text": [
      "10\n",
      "20\n",
      "30\n",
      "40\n",
      "50\n"
     ]
    }
   ],
   "source": [
    "my_stack_obj.printing_func()#printing all the values present in stack"
   ]
  },
  {
   "cell_type": "code",
   "execution_count": 8,
   "metadata": {},
   "outputs": [
    {
     "name": "stdout",
     "output_type": "stream",
     "text": [
      "50\n"
     ]
    }
   ],
   "source": [
    "#searching for the top most element\n",
    "my_stack_obj.peek_func()"
   ]
  },
  {
   "cell_type": "code",
   "execution_count": 9,
   "metadata": {},
   "outputs": [
    {
     "data": {
      "text/plain": [
       "True"
      ]
     },
     "execution_count": 9,
     "metadata": {},
     "output_type": "execute_result"
    }
   ],
   "source": [
    "#removing the top most element of the stack\n",
    "my_stack_obj.pop_func()"
   ]
  },
  {
   "cell_type": "code",
   "execution_count": 10,
   "metadata": {},
   "outputs": [
    {
     "name": "stdout",
     "output_type": "stream",
     "text": [
      "40\n"
     ]
    }
   ],
   "source": [
    "#searching for the top most element\n",
    "my_stack_obj.peek_func()"
   ]
  },
  {
   "cell_type": "code",
   "execution_count": 12,
   "metadata": {},
   "outputs": [
    {
     "name": "stdout",
     "output_type": "stream",
     "text": [
      "10\n",
      "20\n",
      "30\n",
      "40\n"
     ]
    }
   ],
   "source": [
    "#as we can see above the top most element is now 40\n",
    "my_stack_obj.printing_func()#printing all the values present in stack"
   ]
  },
  {
   "cell_type": "markdown",
   "metadata": {},
   "source": [
    "# QUEUE"
   ]
  },
  {
   "cell_type": "code",
   "execution_count": 28,
   "metadata": {},
   "outputs": [],
   "source": [
    "class queue:\n",
    "    #created an empty queue\n",
    "    def __init__(self):\n",
    "        self.queue=list()\n",
    "    #adding the elements in the queue\n",
    "    def add_ele(self,data):\n",
    "        if data not in self.queue:\n",
    "            self.queue.insert(0,data)\n",
    "            \n",
    "        else:\n",
    "            return False\n",
    "    #removing the elements from the single end\n",
    "    def remove(self):\n",
    "        if len(self.queue)>0:\n",
    "            self.queue.pop()\n",
    "            return True\n",
    "        else:\n",
    "            print(\"queue is empty!\")\n",
    "    def print_queue(self):\n",
    "        print(self.queue)\n",
    "        \n",
    "    \n",
    "        "
   ]
  },
  {
   "cell_type": "code",
   "execution_count": 29,
   "metadata": {},
   "outputs": [],
   "source": [
    "queue_obj=queue()#object created"
   ]
  },
  {
   "cell_type": "code",
   "execution_count": 30,
   "metadata": {},
   "outputs": [],
   "source": [
    "#adding the elements in it\n",
    "queue_obj.add_ele(\"arsh\")\n",
    "queue_obj.add_ele(\"piyush\")\n",
    "queue_obj.add_ele(\"mayank\")"
   ]
  },
  {
   "cell_type": "code",
   "execution_count": 31,
   "metadata": {},
   "outputs": [
    {
     "name": "stdout",
     "output_type": "stream",
     "text": [
      "['mayank', 'piyush', 'arsh']\n"
     ]
    }
   ],
   "source": [
    "#printing the queue values\n",
    "queue_obj.print_queue()"
   ]
  },
  {
   "cell_type": "markdown",
   "metadata": {},
   "source": [
    "# DOUBLE ENDED QUEUE"
   ]
  },
  {
   "cell_type": "code",
   "execution_count": 32,
   "metadata": {},
   "outputs": [],
   "source": [
    "#in case of the double ended queue we can insert or delete the elements from both the sides\n",
    "import collections"
   ]
  },
  {
   "cell_type": "code",
   "execution_count": 34,
   "metadata": {},
   "outputs": [],
   "source": [
    "double_ended_queue = collections.deque([20,30,40])"
   ]
  },
  {
   "cell_type": "code",
   "execution_count": 35,
   "metadata": {},
   "outputs": [],
   "source": [
    "#inserting from the left\n",
    "double_ended_queue.appendleft(10)"
   ]
  },
  {
   "cell_type": "code",
   "execution_count": 37,
   "metadata": {},
   "outputs": [],
   "source": [
    "#inserting from the right\n",
    "double_ended_queue.append(50)"
   ]
  },
  {
   "cell_type": "code",
   "execution_count": 38,
   "metadata": {},
   "outputs": [
    {
     "data": {
      "text/plain": [
       "deque([10, 20, 30, 40, 50])"
      ]
     },
     "execution_count": 38,
     "metadata": {},
     "output_type": "execute_result"
    }
   ],
   "source": [
    "double_ended_queue"
   ]
  },
  {
   "cell_type": "code",
   "execution_count": 39,
   "metadata": {},
   "outputs": [],
   "source": [
    "#the deque is created"
   ]
  },
  {
   "cell_type": "code",
   "execution_count": 40,
   "metadata": {},
   "outputs": [
    {
     "data": {
      "text/plain": [
       "50"
      ]
     },
     "execution_count": 40,
     "metadata": {},
     "output_type": "execute_result"
    }
   ],
   "source": [
    "#deleting the elements from the right\n",
    "double_ended_queue.pop()"
   ]
  },
  {
   "cell_type": "code",
   "execution_count": 41,
   "metadata": {},
   "outputs": [
    {
     "data": {
      "text/plain": [
       "10"
      ]
     },
     "execution_count": 41,
     "metadata": {},
     "output_type": "execute_result"
    }
   ],
   "source": [
    "#deleting from the left\n",
    "double_ended_queue.popleft()"
   ]
  },
  {
   "cell_type": "code",
   "execution_count": 43,
   "metadata": {},
   "outputs": [
    {
     "data": {
      "text/plain": [
       "deque([20, 30, 40])"
      ]
     },
     "execution_count": 43,
     "metadata": {},
     "output_type": "execute_result"
    }
   ],
   "source": [
    "double_ended_queue"
   ]
  },
  {
   "cell_type": "code",
   "execution_count": null,
   "metadata": {},
   "outputs": [],
   "source": []
  }
 ],
 "metadata": {
  "kernelspec": {
   "display_name": "Python 3",
   "language": "python",
   "name": "python3"
  },
  "language_info": {
   "codemirror_mode": {
    "name": "ipython",
    "version": 3
   },
   "file_extension": ".py",
   "mimetype": "text/x-python",
   "name": "python",
   "nbconvert_exporter": "python",
   "pygments_lexer": "ipython3",
   "version": "3.7.6"
  }
 },
 "nbformat": 4,
 "nbformat_minor": 4
}
